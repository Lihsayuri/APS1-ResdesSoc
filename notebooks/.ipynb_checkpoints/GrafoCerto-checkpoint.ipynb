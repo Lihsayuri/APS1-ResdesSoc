{
 "cells": [
  {
   "cell_type": "markdown",
   "id": "14d1bb3b",
   "metadata": {},
   "source": [
    "<h1>Grafo com visual melhor</h1>\n",
    "\n",
    "Professor: Marcelo Hashimoto\n",
    "\n",
    "Alunos: Henrique Martinelli Frezzatti, Lívia Sayuri Makuta e Rodrigo Coelho.\n",
    "\n"
   ]
  },
  {
   "cell_type": "markdown",
   "id": "22b87394",
   "metadata": {},
   "source": [
    "<h2>Construindo o grafo simplificado</h2>\n",
    "\n",
    "Como foi visto no jupyter principal da APS, a visualização dos grafos não foi a melhor, e isso porque tinham muitas arestas e muitos nós que quando concentrados pareciam uma coisa só. E foi com o objetivo de observar apenas algumas das arestas e vértices que esse jupyter foi criado"
   ]
  },
  {
   "cell_type": "markdown",
   "id": "37bc4f54",
   "metadata": {},
   "source": [
    "Vamos começar abrindo dois documentos: um que possui as arestas (que foram limitadas a aproximadamente 2000 do Dataset original) e um que possui os vértices referentes à essas arestas.  "
   ]
  },
  {
   "cell_type": "code",
   "execution_count": 1,
   "id": "93eade78",
   "metadata": {},
   "outputs": [],
   "source": [
    "file1 = open('./arestasCerto2.txt', 'r')\n",
    "file2 = open('./nodesCerto.txt', 'r')\n",
    "Arestas = file1.readlines()\n",
    "Nos = file2.readlines()"
   ]
  },
  {
   "cell_type": "markdown",
   "id": "b5bcb32d",
   "metadata": {},
   "source": [
    "Agora vamos importar a biblioteca que vai construir esse grafo simplificado, que como visto no jupyter anterior, é um grafo não-dirigido."
   ]
  },
  {
   "cell_type": "code",
   "execution_count": 2,
   "id": "dee079d6",
   "metadata": {},
   "outputs": [
    {
     "data": {
      "text/html": [
       "\n",
       "    <script src=\"/files/netpixi.min.js\"></script>\n"
      ],
      "text/plain": [
       "<IPython.core.display.HTML object>"
      ]
     },
     "metadata": {},
     "output_type": "display_data"
    }
   ],
   "source": [
    "# Importando a biblioteca netpixi\n",
    "from netpixi.integration.gt import Graph\n",
    "\n",
    "# Criando um grafo não-dirigido\n",
    "g = Graph(directed=False) "
   ]
  },
  {
   "cell_type": "markdown",
   "id": "b5ad018f",
   "metadata": {},
   "source": [
    "Para adicionar os vértices ao grafo basta percorrer as linhas do documento e separar para pegar apenas o número que importa."
   ]
  },
  {
   "cell_type": "code",
   "execution_count": 3,
   "id": "5cfb13c3",
   "metadata": {},
   "outputs": [],
   "source": [
    "# Adicionando os vértices ao grafo:\n",
    "\n",
    "for line2 in Nos:\n",
    "    vertices = line2.strip().split(', ')\n",
    "    #print(vertices)  [debug]  \n",
    "    for i in range (0, len(vertices)):\n",
    "        g.add_vertex(vertices[i])"
   ]
  },
  {
   "cell_type": "code",
   "execution_count": 4,
   "id": "c9a398e0",
   "metadata": {},
   "outputs": [
    {
     "name": "stdout",
     "output_type": "stream",
     "text": [
      "O número de vértices do grafo é : 1873\n"
     ]
    }
   ],
   "source": [
    "n = g.num_vertices()\n",
    "print('O número de vértices do grafo é :', n)"
   ]
  },
  {
   "cell_type": "markdown",
   "id": "61ff9555",
   "metadata": {},
   "source": [
    "Agora podemos adicionar as arestas ao grafo, e com o trabalho de manipulação de linhas e string, isso foi feito abaixo:"
   ]
  },
  {
   "cell_type": "code",
   "execution_count": 5,
   "id": "d03102d0",
   "metadata": {},
   "outputs": [],
   "source": [
    "# Adicionando os vértices ao grafo:\n",
    "listaNo = []\n",
    "for line1 in Arestas:\n",
    "    no1 = line1.split(', ')[0].split('[')[1]\n",
    "    no2 = line1.split(', ')[1].split(']')[0]\n",
    "    g.add_edge(no1, no2)\n",
    "    "
   ]
  },
  {
   "cell_type": "code",
   "execution_count": 6,
   "id": "684f4606",
   "metadata": {},
   "outputs": [
    {
     "name": "stdout",
     "output_type": "stream",
     "text": [
      "O número de arestas do grafo é : 1999\n"
     ]
    }
   ],
   "source": [
    "m = g.num_edges()\n",
    "print('O número de arestas do grafo é :', m)"
   ]
  },
  {
   "cell_type": "markdown",
   "id": "a657cded",
   "metadata": {},
   "source": [
    "<h2> Salvando o documento e mostrando os grafos</h2>"
   ]
  },
  {
   "cell_type": "markdown",
   "id": "1b539782",
   "metadata": {},
   "source": [
    "Depois de construído o grafo, podemos salvá-lo no formato formato ZipNet para em seguida carregá-lo e renderizá-lo."
   ]
  },
  {
   "cell_type": "code",
   "execution_count": 7,
   "id": "e8c1ec99",
   "metadata": {},
   "outputs": [],
   "source": [
    "from netpixi.integration.gt import *\n",
    "import netpixi"
   ]
  },
  {
   "cell_type": "code",
   "execution_count": 8,
   "id": "d7ccc7db",
   "metadata": {},
   "outputs": [],
   "source": [
    "gt_save(g, '../datasets/grafoMenor.net.gz')\n",
    "g = gt_load('../datasets/grafoMenor.net.gz')"
   ]
  },
  {
   "cell_type": "code",
   "execution_count": 9,
   "id": "9bec277a",
   "metadata": {},
   "outputs": [
    {
     "data": {
      "text/html": [
       "\n",
       "        <div id=\"dThDWQ9rBow8QbhPrKkQZH\"></div>\n",
       "        <script>netpixi.render('dThDWQ9rBow8QbhPrKkQZH', '../datasets/grafoMenor.net.gz', 1.7777777777777777, true, false, false);</script>\n",
       "    "
      ],
      "text/plain": [
       "<IPython.core.display.HTML object>"
      ]
     },
     "metadata": {},
     "output_type": "display_data"
    }
   ],
   "source": [
    "r = netpixi.render('../datasets/grafoMenor.net.gz')"
   ]
  },
  {
   "cell_type": "markdown",
   "id": "40390c49",
   "metadata": {},
   "source": [
    "Para melhorar um pouco mais a visualização podemos adicionar alguns estilos ao grafo:"
   ]
  },
  {
   "cell_type": "code",
   "execution_count": 13,
   "id": "bcb0ac84",
   "metadata": {},
   "outputs": [
    {
     "data": {
      "text/html": [
       "\n",
       "        <div id=\"83Dd5qGVFfdeSuetRHJPVy\"></div>\n",
       "        <script>netpixi.call('83Dd5qGVFfdeSuetRHJPVy', 'dThDWQ9rBow8QbhPrKkQZH', 'changeGraph', 'eyJ0eXBlIjogInNldHRpbmdzIiwgInByb3BzIjogeyJncmFwaCI6IHsiY29sb3IiOiAxNjc3NzIxNX19fQo=');</script>\n",
       "    "
      ],
      "text/plain": [
       "<IPython.core.display.HTML object>"
      ]
     },
     "metadata": {},
     "output_type": "display_data"
    },
    {
     "data": {
      "text/html": [
       "\n",
       "        <div id=\"Zc4J3j3xHEmfnE6J7MXG6B\"></div>\n",
       "        <script>netpixi.call('Zc4J3j3xHEmfnE6J7MXG6B', 'dThDWQ9rBow8QbhPrKkQZH', 'changeGraph', 'eyJ0eXBlIjogInNldHRpbmdzIiwgInByb3BzIjogeyJ2ZXJ0ZXgiOiB7ImNvbG9yIjogMCwgInNpemUiOiAxMH19fQo=');</script>\n",
       "    "
      ],
      "text/plain": [
       "<IPython.core.display.HTML object>"
      ]
     },
     "metadata": {},
     "output_type": "display_data"
    },
    {
     "data": {
      "text/html": [
       "\n",
       "        <div id=\"ANueR9VbmPDjmuN64BpznP\"></div>\n",
       "        <script>netpixi.call('ANueR9VbmPDjmuN64BpznP', 'dThDWQ9rBow8QbhPrKkQZH', 'changeGraph', 'eyJ0eXBlIjogInNldHRpbmdzIiwgInByb3BzIjogeyJlZGdlIjogeyJjb2xvciI6IDAsICJ3aWR0aCI6IDEsICJjdXJ2ZTEiOiAxLCAiY3VydmUyIjogMX19fQo=');</script>\n",
       "    "
      ],
      "text/plain": [
       "<IPython.core.display.HTML object>"
      ]
     },
     "metadata": {},
     "output_type": "display_data"
    }
   ],
   "source": [
    "r.graph(color=0xffffff)\n",
    "\n",
    "# mudar a cor e o tamanho dos vértices\n",
    "r.vertex_default(color=0x000000, size=10)\n",
    "\n",
    "# mudar a cor, a espessura e a curvatura das arestas\n",
    "r.edge_default(color=0x000000, width=1, curve1=1, curve2=1)"
   ]
  },
  {
   "cell_type": "code",
   "execution_count": 14,
   "id": "ed760f97",
   "metadata": {},
   "outputs": [
    {
     "data": {
      "text/html": [
       "\n",
       "        <div id=\"JNabQHxG8VmPqwWebyUhkp\"></div>\n",
       "        <script>netpixi.render('JNabQHxG8VmPqwWebyUhkp', 'grafoMenorGrupos.net.gz', 1.7777777777777777, true, false, false);</script>\n",
       "    "
      ],
      "text/plain": [
       "<IPython.core.display.HTML object>"
      ]
     },
     "metadata": {},
     "output_type": "display_data"
    }
   ],
   "source": [
    "#Esse aqui evidencia os grupos\n",
    "\n",
    "g = gt_load('../datasets/grafoMenor.net.gz')\n",
    "m = gt_draw.sfdp_layout(g)\n",
    "gt_move(g, m)\n",
    "gt_save(g, 'grafoMenorGrupos.net.gz')\n",
    "netpixi.render('grafoMenorGrupos.net.gz');"
   ]
  },
  {
   "cell_type": "code",
   "execution_count": 12,
   "id": "208d4f26",
   "metadata": {},
   "outputs": [
    {
     "name": "stdout",
     "output_type": "stream",
     "text": [
      "3.10.6\n"
     ]
    }
   ],
   "source": [
    "from platform import python_version\n",
    "\n",
    "print(python_version())"
   ]
  },
  {
   "cell_type": "code",
   "execution_count": null,
   "id": "efcd6e62",
   "metadata": {},
   "outputs": [],
   "source": []
  }
 ],
 "metadata": {
  "kernelspec": {
   "display_name": "Python 3 (ipykernel)",
   "language": "python",
   "name": "python3"
  },
  "language_info": {
   "codemirror_mode": {
    "name": "ipython",
    "version": 3
   },
   "file_extension": ".py",
   "mimetype": "text/x-python",
   "name": "python",
   "nbconvert_exporter": "python",
   "pygments_lexer": "ipython3",
   "version": "3.10.6"
  }
 },
 "nbformat": 4,
 "nbformat_minor": 5
}
