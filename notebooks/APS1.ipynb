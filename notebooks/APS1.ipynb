{
 "cells": [
  {
   "cell_type": "markdown",
   "id": "3f0407bb",
   "metadata": {},
   "source": [
    "<h1> APS 1: Redes Sociais </h1>\n",
    "\n",
    "Professor: Marcelo Hashimoto\n",
    "\n",
    "Alunos: Henrique Martinelli Frezzatti, Lívia Sayuri Makuta e Rodrigo Coelho.\n"
   ]
  },
  {
   "cell_type": "markdown",
   "id": "52985147",
   "metadata": {},
   "source": [
    "<h2> Introdução </h2>\n",
    "\n",
    "Na presente atividade um grafo será construído a partir do Dataset escolhido pelo grupo: soc-pages-sport retirado do tópico \"social networks\" do site: https://networkrepository.com/. Essa base de dados escolhida utiliza dados coletados de páginas do Facebook do período de novembro de 2017. Esse dataset representa páginas verificadas do Facebook de diferentes categórias que são curtidas mutuamente. Sendo assim, os nós representam as páginas e as arestas são as curtidas mútuas entre elas.\n",
    "\n",
    "\n",
    "Por meio desse grafo será feita uma análise exploratória e uma análise visual a fim de aprender a mexer com as ferramentas e a infraestrutura apresentada na disciplina e de mesmo modo aprender a interpretar bases de dados a partir dos conceitos apresentados até aqui pelo curso.\n"
   ]
  },
  {
   "cell_type": "markdown",
   "id": "8d3dccc6",
   "metadata": {},
   "source": [
    "<h2> 1- Leitura dos dados</h2>\n",
    "\n",
    "Para isso vamos começar carregando os dados do dataset e os lendo a fim de entender por quais dados são formados e a partir disso saber como iremos utilizar os dados como vértices e arestas.\n",
    "\n",
    "Primeiramente, vamos abrir os documentos do dataset: fb-pages-sport.edges e fb-pages-sports.nodes, e depois vamos utilizar a função readlines() do python que retorna todas as linhas do arquivo como uma lista na qual cada linha é um item dessa lista.\n"
   ]
  },
  {
   "cell_type": "code",
   "execution_count": 1,
   "id": "65898faa",
   "metadata": {},
   "outputs": [],
   "source": [
    "# Lendo os arquivos e usando readlines()\n",
    "file1 = open('./fb-pages-sport.edges', 'r')\n",
    "file2 = open('./fb-pages-sport.nodes', 'r')\n",
    "Lines1 = file1.readlines()\n",
    "Lines2 = file2.readlines()"
   ]
  },
  {
   "cell_type": "markdown",
   "id": "19e316e5",
   "metadata": {},
   "source": [
    "Agora vamos printar apenas 5 linhas dos vértices e das arestas como primeiro contato com o dataset:"
   ]
  },
  {
   "cell_type": "code",
   "execution_count": 2,
   "id": "903b1d00",
   "metadata": {},
   "outputs": [
    {
     "name": "stdout",
     "output_type": "stream",
     "text": [
      "VÉRTICES -----------------------------------------\n",
      "\n",
      "Linha0: id,name,new_id\n",
      "Linha1: 1639020429716914,\"Quinn \"\"Moose\"\" Ojinnaka\",1947\n",
      "Linha2: 156191961253979,Villanova Softball,874\n",
      "Linha3: 165554913638633,Miriam Ziegler & Severin Kiefer,13075\n",
      "Linha4: 500839003318392,Eliaquim Mangala Officiel,11252\n",
      "\n",
      "\n",
      "ARESTAS -----------------------------------------\n",
      "\n",
      "Linha0: 0,7061\n",
      "Linha1: 0,5911\n",
      "Linha2: 0,13203\n",
      "Linha3: 0,13704\n",
      "Linha4: 0,11031\n",
      "\n",
      "\n"
     ]
    }
   ],
   "source": [
    "# Lendo apenas 5 linhas dos vértices e arestas como teste\n",
    "\n",
    "## Vértices:\n",
    "\n",
    "print(\"VÉRTICES -----------------------------------------\\n\")\n",
    "count = 0\n",
    "for line in Lines2:\n",
    "    print(\"Linha{}: {}\".format(count, line.strip()))\n",
    "    if count == 4:\n",
    "        print('\\n')\n",
    "        break\n",
    "    count +=1 \n",
    "    \n",
    "## Arestas:\n",
    "\n",
    "print(\"ARESTAS -----------------------------------------\\n\")\n",
    "count = 0\n",
    "for line in Lines1:\n",
    "    print(\"Linha{}: {}\".format(count, line.strip()))\n",
    "    if count == 4:\n",
    "        print(\"\\n\")\n",
    "        break\n",
    "    count +=1 \n"
   ]
  },
  {
   "cell_type": "markdown",
   "id": "4d0f9984",
   "metadata": {},
   "source": [
    "Com os prints acima podemos ver que no documento dos vértices existem três colunas: id, name e new_id que representam, respectivamente, um id antigo com números grandes, o nome das páginas do Facebook presentes na base de dados e um novo id com números menores que facilitam um pouco mais a identificação. Além disso, no documento das arestas simplesmente existem os pares de vértices que estão conectados entre si. "
   ]
  },
  {
   "cell_type": "markdown",
   "id": "e4b055a7",
   "metadata": {},
   "source": [
    "<h2> 2-Construção do Grafo e Análise Exploratória</h2>\n",
    "\n",
    "O próximo passo é começar a construção do grafo, e para isso iremos começar adicionando as vértices descritas no documento ao grafo. Mas antes, como foi mostrado nos tutoriais da disciplina, precisamos importar a seguinte biblioteca para visualização de grafos: netpixi. Ademais, também é importante salientar que o grafo a ser criado é não-dirigido, e isso porque o sentido das arestas nesse caso não importam, já que estamos trabalhando com curtidas mútuas entre páginas do Facebook."
   ]
  },
  {
   "cell_type": "code",
   "execution_count": 3,
   "id": "fdb9e7cf",
   "metadata": {},
   "outputs": [
    {
     "data": {
      "text/html": [
       "\n",
       "    <script src=\"/files/netpixi.min.js\"></script>\n"
      ],
      "text/plain": [
       "<IPython.core.display.HTML object>"
      ]
     },
     "metadata": {},
     "output_type": "display_data"
    }
   ],
   "source": [
    "# Importando a biblioteca netpixi\n",
    "from netpixi.integration.gt import Graph\n",
    "\n",
    "# Criando um grafo não-dirigido\n",
    "g = Graph(directed=False) \n"
   ]
  },
  {
   "cell_type": "markdown",
   "id": "fb204fba",
   "metadata": {},
   "source": [
    "Com o grafo criado, agora iremos populá-lo com a informação dos vértices do dataset, o que é feito com a função: 'add_vertex'. Outrossim, por simplicidade decidimos adotar a coluna \"new_id\" como o identificador do vértice do grafo. "
   ]
  },
  {
   "cell_type": "code",
   "execution_count": 4,
   "id": "3aded2f1",
   "metadata": {},
   "outputs": [
    {
     "name": "stdout",
     "output_type": "stream",
     "text": [
      "A linha inicial possui apenas os títulos das colunas: ['id', 'name', 'new_id']\n"
     ]
    }
   ],
   "source": [
    "# Adicionando os vértices ao grafo:\n",
    "\n",
    "count = 0\n",
    "for line2 in Lines2:\n",
    "    linha2 = line2.strip().split(',')\n",
    "    if count == 0:\n",
    "        print(f'A linha inicial possui apenas os títulos das colunas: {linha2}')\n",
    "    else:\n",
    "        #print(\"Id do vértice: \", linha2[len(linha2)-1])  [print de debug]\n",
    "        g.add_vertex(linha2[len(linha2)-1])\n",
    "    count +=1 \n",
    "\n",
    "\n"
   ]
  },
  {
   "cell_type": "markdown",
   "id": "5ed801cf",
   "metadata": {},
   "source": [
    "<h3> Número de vértices </h3>\n",
    "\n",
    "Para conferir se todos os vértices foram criados podemos utilizar a função 'num_vertices' que faz essa contagem a partir do grafo referenciado. Como validação, segundo os dados oficiais do dataset, sabemos que ele possui aproximadamente 13.900 vértices (nós)."
   ]
  },
  {
   "cell_type": "code",
   "execution_count": 5,
   "id": "70d98e0f",
   "metadata": {},
   "outputs": [
    {
     "name": "stdout",
     "output_type": "stream",
     "text": [
      "O número de vértices do grafo é : 13864\n"
     ]
    }
   ],
   "source": [
    "n = g.num_vertices()\n",
    "print('O número de vértices do grafo é :', n)"
   ]
  },
  {
   "cell_type": "markdown",
   "id": "29ecb4de",
   "metadata": {},
   "source": [
    "Como visto, os vértices já estão formados e seu número é coerente com a informação conhecida. Agora, para concluir a montagem do grafo é necessário conectar esses vértices por meios das arestas. E isso foi feito através da função 'add_edge', como mostrado a seguir:"
   ]
  },
  {
   "cell_type": "code",
   "execution_count": 6,
   "id": "26def576",
   "metadata": {},
   "outputs": [],
   "source": [
    "for line1 in Lines1:\n",
    "    linha1 = line1.strip().split(',')\n",
    "    #print(\"Arestas: \", linha1) [print de debug]\n",
    "    g.add_edge(linha1[0], linha1[1])\n"
   ]
  },
  {
   "cell_type": "markdown",
   "id": "25bb500e",
   "metadata": {},
   "source": [
    "<h3>Número de arestas</h3>\n",
    "\n",
    "Mais uma vez iremos conferir se todas as arestas foram criadas corretamente, e para isso basta utilizar a função 'num_edges'. Além disso, como validação, o número de arestas também é conhecido e segundo o autor do dataset é de aproximadamente 86.800.\n"
   ]
  },
  {
   "cell_type": "code",
   "execution_count": 7,
   "id": "98338498",
   "metadata": {},
   "outputs": [
    {
     "name": "stdout",
     "output_type": "stream",
     "text": [
      "número de arestas de g: 86808\n"
     ]
    }
   ],
   "source": [
    "m = g.num_edges()\n",
    "print('número de arestas de g:', m)"
   ]
  },
  {
   "cell_type": "markdown",
   "id": "bd2f69f8",
   "metadata": {},
   "source": [
    "**Observação:** para a adição das arestas os dados foram um pouco alterados, isto é, foi tomada a liberdade de excluir arestas entre um mesmo nó. Isso porque não é uma informação muito relevante no presente contexto e porque a própria função que foi utilizada anteriormente para criar as arestas não permite que isso seja feito."
   ]
  },
  {
   "cell_type": "markdown",
   "id": "a790d45a",
   "metadata": {},
   "source": [
    "<h3> Adicionando propriedades ao grafo</h3>\n",
    "\n",
    "A fim de melhorar a visualização do grafo, podemos adicionar algumas propriedades que são as características das vértices e das arestas. No caso em questão apenas as vértices possuem mais uma característica que é o nome da página na rede social. Assim, para cada nó será adicionado como um rótulo (label) o nome da página ao qual o nó se refere.\n",
    "\n"
   ]
  },
  {
   "cell_type": "markdown",
   "id": "052fa841",
   "metadata": {},
   "source": [
    "Para fazer isso, basta utilizar a função 'add_vp' e adicionar a coluna referente a nova propriedade da vértice. Isso pode ser visto abaixo:"
   ]
  },
  {
   "cell_type": "code",
   "execution_count": 9,
   "id": "946c4d4c",
   "metadata": {},
   "outputs": [],
   "source": [
    "g.add_vp('nome')"
   ]
  },
  {
   "cell_type": "markdown",
   "id": "17c7b4ae",
   "metadata": {},
   "source": [
    "Depois, basta associar cada vértice ao nome. Isso envolve primeiro fazer uma operação de consulta do nó existente e depois associar seu novo campo, no caso 'nome', ao vértice. "
   ]
  },
  {
   "cell_type": "code",
   "execution_count": 10,
   "id": "9c80a70b",
   "metadata": {},
   "outputs": [
    {
     "name": "stdout",
     "output_type": "stream",
     "text": [
      "A linha inicial possui apenas os títulos das colunas: ['id', 'name', 'new_id']\n"
     ]
    }
   ],
   "source": [
    "# Adicionando os vértices ao grafo:\n",
    "\n",
    "count = 0\n",
    "for line2 in Lines2:\n",
    "    linha2 = line2.strip().split(',')\n",
    "    if count == 0:\n",
    "        print(f'A linha inicial possui apenas os títulos das colunas: {linha2}')\n",
    "    else:\n",
    "        #print(\"Id do vértice: \", linha2[1]) [print de debug]\n",
    "        g.get_vertex(linha2[len(linha2)-1])['nome'] = linha2[1]\n",
    "    count +=1 \n"
   ]
  },
  {
   "cell_type": "markdown",
   "id": "66866748",
   "metadata": {},
   "source": [
    "Para testar se a propriedade foi adicionada ao vértice do grafo, podemos fazer uma operação de consulta com a função 'get_vertex' e conferir se o nome associado àquele nó é coerente com a base de dados. Como visto no tópico \"Leitura de Dados\", para o id 874 o esperado era: Villanova Softball, abaixo isso é validado. "
   ]
  },
  {
   "cell_type": "code",
   "execution_count": 11,
   "id": "092cc945",
   "metadata": {},
   "outputs": [
    {
     "name": "stdout",
     "output_type": "stream",
     "text": [
      "Villanova Softball\n"
     ]
    }
   ],
   "source": [
    "exemplo = g.get_vertex('874')\n",
    "\n",
    "print(exemplo['nome'])"
   ]
  },
  {
   "cell_type": "markdown",
   "id": "fd73daa4",
   "metadata": {},
   "source": [
    "<h3> Análise sobre vizinhos, predecessores e sucessores </h3>\n",
    "\n",
    "O vizinho de um vértice é quem está conectado à ele por meio das arestas e se o sentido da aresta for entrando, isso significa que aquele nó é predecessor de seu vizinho, e se o sentido for saindo, significa que o seu vizinho é seu sucessor. Mas como nosso grafo é não dirigido, não há sucessores e predecessores, todos são vizinhos,\n",
    "\n"
   ]
  },
  {
   "cell_type": "markdown",
   "id": "94817f72",
   "metadata": {},
   "source": [
    "E para iterar sobre os vizinhos de um vértice, basta utilizar o método iter_all_neighbors. Como há muitos vizinho, vamos printar apenas os 5 primeiros para ter uma noção."
   ]
  },
  {
   "cell_type": "code",
   "execution_count": 15,
   "id": "9a1d1767",
   "metadata": {},
   "outputs": [
    {
     "name": "stdout",
     "output_type": "stream",
     "text": [
      "vizinhos de 1947: 5610 3390 \n",
      "vizinhos de 874: 2334 8558 9630 5427 1743 1685 \n",
      "vizinhos de 13075: 13760 970 3170 6405 6499 9640 535 \n",
      "vizinhos de 11252: 13142 11524 13735 3572 4182 4319 5497 7029 8134 164 812 3334 \n",
      "vizinhos de 5713: "
     ]
    }
   ],
   "source": [
    "limitador = 0\n",
    "for u in g.all_vertices():\n",
    "    print(f'vizinhos de {u}:', end=' ')\n",
    "    if u == 4:\n",
    "        break\n",
    "    for v in u.iter_all_neighbors():\n",
    "        print(v, end=' ')\n",
    "    limitador +=1\n",
    "    print()"
   ]
  },
  {
   "cell_type": "markdown",
   "id": "c9b400a0",
   "metadata": {},
   "source": [
    "Mais uma vez como teste, podemos iterar sobre as arestas de um vértice utilizando o método iter_all_edges. De mesmo modo, vamos limitar a vizualização a apenas 5 arestas."
   ]
  },
  {
   "cell_type": "code",
   "execution_count": 16,
   "id": "f5c0f2b3",
   "metadata": {},
   "outputs": [
    {
     "name": "stdout",
     "output_type": "stream",
     "text": [
      "arestas de 1947: (1947, 5610) (1947, 3390) \n",
      "arestas de 874: (874, 2334) (874, 8558) (874, 9630) (874, 5427) (874, 1743) (874, 1685) \n",
      "arestas de 13075: (13075, 13760) (13075, 970) (13075, 3170) (13075, 6405) (13075, 6499) (13075, 9640) (13075, 535) \n",
      "arestas de 11252: (11252, 13142) (11252, 11524) (11252, 13735) (11252, 3572) (11252, 4182) (11252, 4319) (11252, 5497) (11252, 7029) (11252, 8134) (11252, 164) (11252, 812) (11252, 3334) \n",
      "arestas de 5713: "
     ]
    }
   ],
   "source": [
    "limitador = 0\n",
    "for u in g.all_vertices():\n",
    "    print(f'arestas de {u}:', end=' ')\n",
    "    if limitador == 4:\n",
    "        break\n",
    "    for e in u.iter_all_edges():\n",
    "        print(e, end=' ')\n",
    "    limitador+=1\n",
    "    print()"
   ]
  },
  {
   "cell_type": "markdown",
   "id": "f75a8c6c",
   "metadata": {},
   "source": [
    "<h3> Salvando e carregando o arquivo </h3>\n",
    "\n",
    "O último passo para a construção do grafo é salvá-lo no formato ZipNet para depois carregá-lo e renderizá-lo. Para fazer isso, mais uma vez vamos utilizar a biblioteca netpixi. \n"
   ]
  },
  {
   "cell_type": "code",
   "execution_count": 17,
   "id": "e445f927",
   "metadata": {},
   "outputs": [],
   "source": [
    "from netpixi.integration.gt import *"
   ]
  },
  {
   "cell_type": "markdown",
   "id": "20475d3d",
   "metadata": {},
   "source": [
    "Para salvar um grafo no formato ZipNet, basta chamar o método 'gt_save':"
   ]
  },
  {
   "cell_type": "code",
   "execution_count": null,
   "id": "f117ba8d",
   "metadata": {},
   "outputs": [],
   "source": [
    "gt_save(g, '../datasets/versao1.net.gz')"
   ]
  },
  {
   "cell_type": "markdown",
   "id": "79b13991",
   "metadata": {},
   "source": [
    "Depois, para carregá-lo podemos utilizar o método 'gt_load':"
   ]
  },
  {
   "cell_type": "code",
   "execution_count": null,
   "id": "2c21c784",
   "metadata": {},
   "outputs": [],
   "source": [
    "g = gt_load('../datasets/versao1.net.gz')"
   ]
  },
  {
   "cell_type": "code",
   "execution_count": null,
   "id": "2c1435e1",
   "metadata": {},
   "outputs": [],
   "source": [
    "import netpixi"
   ]
  },
  {
   "cell_type": "markdown",
   "id": "45369839",
   "metadata": {},
   "source": [
    "Por fim, basta renderizá-lo. Lembrando que isso pode ser um pouco lento dependendo de quantos dados foram utilizados para fazer a construção dos vértices e arestas. No nosso caso não foram muitos, mas o computador utilizado para rodar os códigos também tem influência nisso. "
   ]
  },
  {
   "cell_type": "code",
   "execution_count": null,
   "id": "ef20d506",
   "metadata": {},
   "outputs": [],
   "source": [
    "r = netpixi.render('../datasets/versao1.net.gz')"
   ]
  },
  {
   "cell_type": "markdown",
   "id": "d5785dd7",
   "metadata": {},
   "source": [
    "Além disso, vamos adicionar um estilo para melhorar a visualização e adicionar a propriedade do vértice."
   ]
  },
  {
   "cell_type": "code",
   "execution_count": null,
   "id": "38009ad6",
   "metadata": {},
   "outputs": [],
   "source": [
    "r.graph(color=0xffffff)\n",
    "\n",
    "# mudar a cor e o tamanho dos vértices\n",
    "r.vertex_default(color=0x000000, size=10)\n",
    "\n",
    "# mudar a cor, a espessura e a curvatura das arestas\n",
    "r.edge_default(color=0x000000, width=1, curve1=1, curve2=1)\n",
    "\n",
    "r.vertex_set_key('nome')"
   ]
  },
  {
   "cell_type": "markdown",
   "id": "c7ef24b2",
   "metadata": {},
   "source": [
    "<h2> Densidades, estatítica e histogramas </h2>\n",
    "\n",
    "<h3> Densidade </h3>\n",
    "\n",
    "Como foi visto nos tutoriais, os número absolutos de arestas é importante, mas não são suficientes para ter entendimento geral da situação. Logo, é igualmente importante calcular a relação entre o número de arestas existentes com o número de arestas máximo possível.\n",
    "\n",
    "Como o grafo é não dirigido, bsata fazer o produto do número de vértices com o número de vértices menos 1 e depois dividir esse resultado por 2.\n"
   ]
  },
  {
   "cell_type": "markdown",
   "id": "cd0e6d16",
   "metadata": {},
   "source": [
    "Mas antes, para os próximos passos será importante que duas bibliotecas já estejam importadas, a seaborn e a regression integration:"
   ]
  },
  {
   "cell_type": "code",
   "execution_count": 18,
   "id": "92d1d7cb",
   "metadata": {},
   "outputs": [
    {
     "name": "stderr",
     "output_type": "stream",
     "text": [
      "<frozen importlib._bootstrap>:914: ImportWarning: VendorImporter.find_spec() not found; falling back to find_module()\n",
      "/usr/local/lib/python3.10/site-packages/seaborn/rcmod.py:82: DeprecationWarning: distutils Version classes are deprecated. Use packaging.version instead.\n",
      "  if LooseVersion(mpl.__version__) >= \"3.0\":\n",
      "/usr/local/lib/python3.10/site-packages/setuptools/_distutils/version.py:346: DeprecationWarning: distutils Version classes are deprecated. Use packaging.version instead.\n",
      "  other = LooseVersion(other)\n",
      "<frozen importlib._bootstrap>:914: ImportWarning: VendorImporter.find_spec() not found; falling back to find_module()\n",
      "<frozen importlib._bootstrap>:914: ImportWarning: VendorImporter.find_spec() not found; falling back to find_module()\n",
      "/usr/local/lib/python3.10/site-packages/seaborn/rcmod.py:400: DeprecationWarning: distutils Version classes are deprecated. Use packaging.version instead.\n",
      "  if LooseVersion(mpl.__version__) >= \"3.0\":\n",
      "/usr/local/lib/python3.10/site-packages/setuptools/_distutils/version.py:346: DeprecationWarning: distutils Version classes are deprecated. Use packaging.version instead.\n",
      "  other = LooseVersion(other)\n"
     ]
    }
   ],
   "source": [
    "import seaborn\n",
    "#from netpixi.integration.gt import *\n",
    "from regression.integration.gt import *"
   ]
  },
  {
   "cell_type": "markdown",
   "id": "ecc64db0",
   "metadata": {},
   "source": [
    "O aviso acima pode ser ignorado."
   ]
  },
  {
   "cell_type": "code",
   "execution_count": 19,
   "id": "8bf374bc",
   "metadata": {},
   "outputs": [
    {
     "name": "stdout",
     "output_type": "stream",
     "text": [
      "O grafo é não-dirigido e o número máximo de arestas é 96098316 "
     ]
    }
   ],
   "source": [
    "if g.is_directed():\n",
    "    max_edges = n * (n - 1)\n",
    "    print(\"O grafo é dirigido e o número máximo de arestas é\", end=' ')\n",
    "else:\n",
    "    max_edges = n * (n - 1) // 2\n",
    "    print(\"O grafo é não-dirigido e o número máximo de arestas é\", end=' ')\n",
    "\n",
    "print(max_edges, end=' ')"
   ]
  },
  {
   "cell_type": "markdown",
   "id": "5e26eedb",
   "metadata": {},
   "source": [
    "Com o número máximo de arestas possíveis calculado, podemos agora calcular a densidade para saber quantos por cento em relação ao máximo temos em nosso grafo."
   ]
  },
  {
   "cell_type": "code",
   "execution_count": 20,
   "id": "0d315f96",
   "metadata": {},
   "outputs": [
    {
     "name": "stdout",
     "output_type": "stream",
     "text": [
      "A densidade de arestas é de 0.09033248824048072%\n"
     ]
    }
   ],
   "source": [
    "d = m / max_edges\n",
    "print(f'A densidade de arestas é de {d*100}%')"
   ]
  },
  {
   "cell_type": "markdown",
   "id": "f3bf5e11",
   "metadata": {},
   "source": [
    "Com isso pode ser visto que embora o número de arestas presentes no grafo pareça ser grande em relação a número de vértices (cerca de 6,26 vezes o número de vértices), ele  representa apenas cerca de 0,09 % por cento do máximo possível.\n"
   ]
  },
  {
   "cell_type": "markdown",
   "id": "83387646",
   "metadata": {},
   "source": [
    "<h3> Estatísticas e histogramas </h3>\n",
    "\n",
    "Como citado anteriormente, cada vértice tem o número de arestas que entram (in-degree), o número de arestas que saem (out-degree), e o degree que é a soma desses dois valores. Antes de plotar os histogramas primeiro iremos obter todos esses dados através de três métodos: o `in_degree`, o `out_degree` e o `total_degree`.\n"
   ]
  },
  {
   "cell_type": "markdown",
   "id": "25b9168a",
   "metadata": {},
   "source": [
    "Mas antes, vamos formatar os dados em um dataframe do pandas para facilitar a visualização dessas novas características que serão adicionadas ao dataset para também tornar mais fácil a construção dos histogramas e o cálculo de estatística:\n",
    "    \n"
   ]
  },
  {
   "cell_type": "code",
   "execution_count": 30,
   "id": "d70381d8",
   "metadata": {},
   "outputs": [
    {
     "data": {
      "text/html": [
       "<div>\n",
       "<style scoped>\n",
       "    .dataframe tbody tr th:only-of-type {\n",
       "        vertical-align: middle;\n",
       "    }\n",
       "\n",
       "    .dataframe tbody tr th {\n",
       "        vertical-align: top;\n",
       "    }\n",
       "\n",
       "    .dataframe thead th {\n",
       "        text-align: right;\n",
       "    }\n",
       "</style>\n",
       "<table border=\"1\" class=\"dataframe\">\n",
       "  <thead>\n",
       "    <tr style=\"text-align: right;\">\n",
       "      <th></th>\n",
       "      <th>nome</th>\n",
       "    </tr>\n",
       "    <tr>\n",
       "      <th>id</th>\n",
       "      <th></th>\n",
       "    </tr>\n",
       "  </thead>\n",
       "  <tbody>\n",
       "    <tr>\n",
       "      <th>1947</th>\n",
       "      <td>\"Quinn \"\"Moose\"\" Ojinnaka\"</td>\n",
       "    </tr>\n",
       "    <tr>\n",
       "      <th>874</th>\n",
       "      <td>Villanova Softball</td>\n",
       "    </tr>\n",
       "    <tr>\n",
       "      <th>13075</th>\n",
       "      <td>Miriam Ziegler &amp; Severin Kiefer</td>\n",
       "    </tr>\n",
       "    <tr>\n",
       "      <th>11252</th>\n",
       "      <td>Eliaquim Mangala Officiel</td>\n",
       "    </tr>\n",
       "    <tr>\n",
       "      <th>5713</th>\n",
       "      <td>Alfonso Celis Jr.</td>\n",
       "    </tr>\n",
       "    <tr>\n",
       "      <th>...</th>\n",
       "      <td>...</td>\n",
       "    </tr>\n",
       "    <tr>\n",
       "      <th>5510</th>\n",
       "      <td>Hendrik Bonmann</td>\n",
       "    </tr>\n",
       "    <tr>\n",
       "      <th>10047</th>\n",
       "      <td>Somos Cowboys</td>\n",
       "    </tr>\n",
       "    <tr>\n",
       "      <th>6808</th>\n",
       "      <td>Uthappa SK</td>\n",
       "    </tr>\n",
       "    <tr>\n",
       "      <th>3332</th>\n",
       "      <td>Nikola Jokić</td>\n",
       "    </tr>\n",
       "    <tr>\n",
       "      <th>13792</th>\n",
       "      <td>Petrix Barbosa</td>\n",
       "    </tr>\n",
       "  </tbody>\n",
       "</table>\n",
       "<p>13864 rows × 1 columns</p>\n",
       "</div>"
      ],
      "text/plain": [
       "                                  nome\n",
       "id                                    \n",
       "1947        \"Quinn \"\"Moose\"\" Ojinnaka\"\n",
       "874                 Villanova Softball\n",
       "13075  Miriam Ziegler & Severin Kiefer\n",
       "11252        Eliaquim Mangala Officiel\n",
       "5713                 Alfonso Celis Jr.\n",
       "...                                ...\n",
       "5510                   Hendrik Bonmann\n",
       "10047                    Somos Cowboys\n",
       "6808                        Uthappa SK\n",
       "3332                      Nikola Jokić\n",
       "13792                   Petrix Barbosa\n",
       "\n",
       "[13864 rows x 1 columns]"
      ]
     },
     "execution_count": 30,
     "metadata": {},
     "output_type": "execute_result"
    }
   ],
   "source": [
    "data = gt_data(g)\n",
    "data"
   ]
  },
  {
   "cell_type": "code",
   "execution_count": 31,
   "id": "219591a3",
   "metadata": {},
   "outputs": [],
   "source": [
    "in_degrees = []\n",
    "for v in g.all_vertices():\n",
    "    in_degrees.append(v.in_degree())\n",
    "\n",
    "out_degrees = []\n",
    "for v in g.all_vertices():\n",
    "    out_degrees.append(v.out_degree())\n",
    "\n",
    "degrees = []\n",
    "for v in g.all_vertices():\n",
    "    degrees.append(v.total_degree())"
   ]
  },
  {
   "cell_type": "code",
   "execution_count": 32,
   "id": "bdc65aa2",
   "metadata": {},
   "outputs": [
    {
     "data": {
      "text/html": [
       "<div>\n",
       "<style scoped>\n",
       "    .dataframe tbody tr th:only-of-type {\n",
       "        vertical-align: middle;\n",
       "    }\n",
       "\n",
       "    .dataframe tbody tr th {\n",
       "        vertical-align: top;\n",
       "    }\n",
       "\n",
       "    .dataframe thead th {\n",
       "        text-align: right;\n",
       "    }\n",
       "</style>\n",
       "<table border=\"1\" class=\"dataframe\">\n",
       "  <thead>\n",
       "    <tr style=\"text-align: right;\">\n",
       "      <th></th>\n",
       "      <th>nome</th>\n",
       "      <th>in_degree</th>\n",
       "      <th>out_degree</th>\n",
       "      <th>degree</th>\n",
       "    </tr>\n",
       "    <tr>\n",
       "      <th>id</th>\n",
       "      <th></th>\n",
       "      <th></th>\n",
       "      <th></th>\n",
       "      <th></th>\n",
       "    </tr>\n",
       "  </thead>\n",
       "  <tbody>\n",
       "    <tr>\n",
       "      <th>1947</th>\n",
       "      <td>\"Quinn \"\"Moose\"\" Ojinnaka\"</td>\n",
       "      <td>0</td>\n",
       "      <td>2</td>\n",
       "      <td>2</td>\n",
       "    </tr>\n",
       "    <tr>\n",
       "      <th>874</th>\n",
       "      <td>Villanova Softball</td>\n",
       "      <td>0</td>\n",
       "      <td>6</td>\n",
       "      <td>6</td>\n",
       "    </tr>\n",
       "    <tr>\n",
       "      <th>13075</th>\n",
       "      <td>Miriam Ziegler &amp; Severin Kiefer</td>\n",
       "      <td>0</td>\n",
       "      <td>7</td>\n",
       "      <td>7</td>\n",
       "    </tr>\n",
       "    <tr>\n",
       "      <th>11252</th>\n",
       "      <td>Eliaquim Mangala Officiel</td>\n",
       "      <td>0</td>\n",
       "      <td>12</td>\n",
       "      <td>12</td>\n",
       "    </tr>\n",
       "    <tr>\n",
       "      <th>5713</th>\n",
       "      <td>Alfonso Celis Jr.</td>\n",
       "      <td>0</td>\n",
       "      <td>1</td>\n",
       "      <td>1</td>\n",
       "    </tr>\n",
       "    <tr>\n",
       "      <th>...</th>\n",
       "      <td>...</td>\n",
       "      <td>...</td>\n",
       "      <td>...</td>\n",
       "      <td>...</td>\n",
       "    </tr>\n",
       "    <tr>\n",
       "      <th>5510</th>\n",
       "      <td>Hendrik Bonmann</td>\n",
       "      <td>0</td>\n",
       "      <td>4</td>\n",
       "      <td>4</td>\n",
       "    </tr>\n",
       "    <tr>\n",
       "      <th>10047</th>\n",
       "      <td>Somos Cowboys</td>\n",
       "      <td>0</td>\n",
       "      <td>2</td>\n",
       "      <td>2</td>\n",
       "    </tr>\n",
       "    <tr>\n",
       "      <th>6808</th>\n",
       "      <td>Uthappa SK</td>\n",
       "      <td>0</td>\n",
       "      <td>2</td>\n",
       "      <td>2</td>\n",
       "    </tr>\n",
       "    <tr>\n",
       "      <th>3332</th>\n",
       "      <td>Nikola Jokić</td>\n",
       "      <td>0</td>\n",
       "      <td>2</td>\n",
       "      <td>2</td>\n",
       "    </tr>\n",
       "    <tr>\n",
       "      <th>13792</th>\n",
       "      <td>Petrix Barbosa</td>\n",
       "      <td>0</td>\n",
       "      <td>2</td>\n",
       "      <td>2</td>\n",
       "    </tr>\n",
       "  </tbody>\n",
       "</table>\n",
       "<p>13864 rows × 4 columns</p>\n",
       "</div>"
      ],
      "text/plain": [
       "                                  nome  in_degree  out_degree  degree\n",
       "id                                                                   \n",
       "1947        \"Quinn \"\"Moose\"\" Ojinnaka\"          0           2       2\n",
       "874                 Villanova Softball          0           6       6\n",
       "13075  Miriam Ziegler & Severin Kiefer          0           7       7\n",
       "11252        Eliaquim Mangala Officiel          0          12      12\n",
       "5713                 Alfonso Celis Jr.          0           1       1\n",
       "...                                ...        ...         ...     ...\n",
       "5510                   Hendrik Bonmann          0           4       4\n",
       "10047                    Somos Cowboys          0           2       2\n",
       "6808                        Uthappa SK          0           2       2\n",
       "3332                      Nikola Jokić          0           2       2\n",
       "13792                   Petrix Barbosa          0           2       2\n",
       "\n",
       "[13864 rows x 4 columns]"
      ]
     },
     "execution_count": 32,
     "metadata": {},
     "output_type": "execute_result"
    }
   ],
   "source": [
    "data['in_degree'] = in_degrees\n",
    "data['out_degree'] = out_degrees\n",
    "data['degree'] = degrees\n",
    "data"
   ]
  },
  {
   "cell_type": "markdown",
   "id": "899b92f1",
   "metadata": {},
   "source": [
    "Como pode ser visto, por ser um grafo não- dirigido o número de arestas que saem é o mesmo número das arestas totais. Isso porque nesse caso o sentido do grafo não é importante, as arestas estão indicando apenas os vizinhos."
   ]
  },
  {
   "cell_type": "markdown",
   "id": "afaaa067",
   "metadata": {},
   "source": [
    "Por fim, agora iremos plotar os histogramas e mostrar as estatísticas referentes a cada degree:"
   ]
  },
  {
   "cell_type": "code",
   "execution_count": 35,
   "id": "c35762b3",
   "metadata": {},
   "outputs": [
    {
     "data": {
      "text/plain": [
       "count    13864.0\n",
       "mean         0.0\n",
       "std          0.0\n",
       "min          0.0\n",
       "25%          0.0\n",
       "50%          0.0\n",
       "75%          0.0\n",
       "max          0.0\n",
       "Name: in_degree, dtype: float64"
      ]
     },
     "execution_count": 35,
     "metadata": {},
     "output_type": "execute_result"
    },
    {
     "data": {
      "image/png": "[encoded data removed]",
      "text/plain": [
       "<Figure size 640x480 with 1 Axes>"
      ]
     },
     "metadata": {},
     "output_type": "display_data"
    }
   ],
   "source": [
    "data['in_degree'].hist(bins=range(5))\n",
    "data['in_degree'].describe()"
   ]
  },
  {
   "cell_type": "markdown",
   "id": "34db4e9d",
   "metadata": {},
   "source": [
    "Como era esperado, o `in_degree` é composto por zeros, e por isso limitamos a representação do eixo `x` do histograma à 5."
   ]
  },
  {
   "cell_type": "code",
   "execution_count": 38,
   "id": "fb91d3be",
   "metadata": {},
   "outputs": [
    {
     "data": {
      "text/plain": [
       "count    13864.000000\n",
       "mean        12.522793\n",
       "std         18.018046\n",
       "min          1.000000\n",
       "25%          3.000000\n",
       "50%          7.000000\n",
       "75%         15.000000\n",
       "max        468.000000\n",
       "Name: out_degree, dtype: float64"
      ]
     },
     "execution_count": 38,
     "metadata": {},
     "output_type": "execute_result"
    },
    {
     "data": {
      "image/png": "[encoded data removed]",
      "text/plain": [
       "<Figure size 640x480 with 1 Axes>"
      ]
     },
     "metadata": {},
     "output_type": "display_data"
    }
   ],
   "source": [
    "data['out_degree'].hist(bins=range(200))\n",
    "data['out_degree'].describe()"
   ]
  },
  {
   "cell_type": "markdown",
   "id": "0fa09902",
   "metadata": {},
   "source": [
    "Por sua vez, o eixo `x` do `out_degree` foi limitado a 200, embora seu valor máximo seja 468. Mas como podemos ver pelas estatísticas cerca de 75% do número de `out_degrees` é menor que 15. Portanto, restringindo o histograma dessa maneira conseguimos ver que de fato as densidades são maiores nos valores abaixo de 15. "
   ]
  },
  {
   "cell_type": "code",
   "execution_count": 37,
   "id": "87b1f6eb",
   "metadata": {},
   "outputs": [
    {
     "data": {
      "text/plain": [
       "count    13864.000000\n",
       "mean        12.522793\n",
       "std         18.018046\n",
       "min          1.000000\n",
       "25%          3.000000\n",
       "50%          7.000000\n",
       "75%         15.000000\n",
       "max        468.000000\n",
       "Name: degree, dtype: float64"
      ]
     },
     "execution_count": 37,
     "metadata": {},
     "output_type": "execute_result"
    },
    {
     "data": {
      "image/png": "[encoded data removed]",
      "text/plain": [
       "<Figure size 640x480 with 1 Axes>"
      ]
     },
     "metadata": {},
     "output_type": "display_data"
    }
   ],
   "source": [
    "data['degree'].hist(bins=range(80))\n",
    "data['degree'].describe()"
   ]
  },
  {
   "cell_type": "markdown",
   "id": "c651d01d",
   "metadata": {},
   "source": [
    "Por fim, como o histograma dos `degrees` é o mesmo que o do `out_degrees`, resolvemos restringir ainda mais o valor máximo do eixo `x` do histograma para 80. Assim fica claro que de fato a quantidade de arestas por vértice está mais concentrada nos valores iniciais do eixo `x`, o que também é corroborado pela mediana que aponta que 50% dos valores são menores que 7."
   ]
  },
  {
   "cell_type": "markdown",
   "id": "110acd91",
   "metadata": {},
   "source": [
    "<h2> 3- Análise visual do grafo </h2>"
   ]
  },
  {
   "cell_type": "markdown",
   "id": "b3e8a619",
   "metadata": {},
   "source": [
    "Como foi estudado em aulas anteriores, a maneira que os vértices são dispostos em um grafo pode esconder informações importantes e interessantes a cerca da estrutura do grafo. E é por isso que a biblioteca já usadas na APS: a netpixi, e a graph-tool tem ferramentas para que possamos visualizar isso. \n",
    "\n",
    "E para isso nós escolhemos dois algoritmos: um que é baseado na ideia de `force-directed graph drawing` que utiliza as arestas como uma força gravitacional que aproxima vértices conectados e afasta os desconectados - o que pode revelar a existência de grupos (SFDP), e outro que a partir de um vértice escolhido como raiz, posiciona em volta dessa raiz os seus vizinhos (Radial).\n",
    "\n",
    "A implementação desses dois algoritmos pode ser vista abaixo:\n"
   ]
  },
  {
   "cell_type": "markdown",
   "id": "de169e6a",
   "metadata": {},
   "source": [
    "<h3> SFDP </h3>"
   ]
  },
  {
   "cell_type": "code",
   "execution_count": null,
   "id": "5def5b6b",
   "metadata": {},
   "outputs": [],
   "source": [
    "g = gt_load('../datasets/versao1.net.gz')\n",
    "m = gt_draw.sfdp_layout(g)\n",
    "gt_move(g, m)\n",
    "gt_save(g, 'exemplo2.net.gz')\n",
    "netpixi.render('exemplo2.net.gz');"
   ]
  },
  {
   "cell_type": "code",
   "execution_count": null,
   "id": "992a1160",
   "metadata": {},
   "outputs": [],
   "source": [
    "r.graph(color=0xffffff)\n",
    "\n",
    "# mudar a cor e o tamanho dos vértices\n",
    "r.vertex_default(color=0x000000, size=10)\n",
    "\n",
    "# mudar a cor, a espessura e a curvatura das arestas\n",
    "r.edge_default(color=0x000000, width=1, curve1=1, curve2=1)\n",
    "\n",
    "r.vertex_set_key('nome')"
   ]
  },
  {
   "cell_type": "markdown",
   "id": "70e7757d",
   "metadata": {},
   "source": [
    "<h3>Radial</h3>\n",
    "\n"
   ]
  },
  {
   "cell_type": "code",
   "execution_count": null,
   "id": "8d331d15",
   "metadata": {},
   "outputs": [],
   "source": [
    "g = gt_load('../datasets/versao1.net.gz')\n",
    "m = gt_draw.radial_tree_layout(g, 6932) # vértice com identificador 11 é escolhido como raiz\n",
    "gt_move(g, m)\n",
    "gt_save(g, 'exemplo3.net.gz')\n",
    "r = netpixi.render('exemplo3.net.gz');"
   ]
  },
  {
   "cell_type": "code",
   "execution_count": null,
   "id": "1df6d26d",
   "metadata": {},
   "outputs": [],
   "source": [
    "r.graph(color=0xffffff)\n",
    "\n",
    "# mudar a cor e o tamanho dos vértices\n",
    "r.vertex_default(color=0x000000, size=10)\n",
    "\n",
    "# mudar a cor, a espessura e a curvatura das arestas\n",
    "r.edge_default(color=0x000000, width=1, curve1=1, curve2=1)\n",
    "\n",
    "r.vertex_set_key('nome')"
   ]
  }
 ],
 "metadata": {
  "kernelspec": {
   "display_name": "Python 3 (ipykernel)",
   "language": "python",
   "name": "python3"
  },
  "language_info": {
   "codemirror_mode": {
    "name": "ipython",
    "version": 3
   },
   "file_extension": ".py",
   "mimetype": "text/x-python",
   "name": "python",
   "nbconvert_exporter": "python",
   "pygments_lexer": "ipython3",
   "version": "3.10.6"
  }
 },
 "nbformat": 4,
 "nbformat_minor": 5
}
