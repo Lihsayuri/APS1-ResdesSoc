{
 "cells": [
  {
   "cell_type": "markdown",
   "id": "5ab7ca7a",
   "metadata": {},
   "source": [
    "<h1>Grafo com visual melhor</h1>\n",
    "\n",
    "Professor: Marcelo Hashimoto\n",
    "\n",
    "Alunos: Henrique Martinelli Frezzatti, Lívia Sayuri Makuta e Rodrigo Coelho.\n",
    "\n"
   ]
  },
  {
   "cell_type": "markdown",
   "id": "d5e10044",
   "metadata": {},
   "source": [
    "<h2>Construindo o grafo simplificado</h2>\n",
    "\n",
    "Como foi visto no jupyter principal da APS (`APS1`), a visualização dos grafos não foi a melhor, e isso porque tinham muitas arestas e muitos nós que quando concentrados pareciam uma coisa só. E foi com o objetivo de observar apenas algumas das arestas e vértices que esse jupyter foi criado. "
   ]
  },
  {
   "cell_type": "markdown",
   "id": "3da08d1b",
   "metadata": {},
   "source": [
    "No jupyter anterior a este : `SeparandoAlgumasVertices`, foram criados os arquivos no formato `txt` com todos os dados necessários para construir esse novo grafo menor. Assim, vamos começar abrindo dois documentos: um que possui as arestas (que foram limitadas a aproximadamente 2000 do Dataset original) e um que possui os vértices referentes à essas arestas.  "
   ]
  },
  {
   "cell_type": "code",
   "execution_count": 1,
   "id": "dd912f46",
   "metadata": {},
   "outputs": [],
   "source": [
    "fileArestas = open('./arestasReduzidas.txt', 'r')\n",
    "fileVertices = open('./verticesReduzidos.txt', 'r')\n",
    "fileNomeVertices = open('./nomeVerticesReduzidos.txt', 'r')\n",
    "linhasArestas = fileArestas.readlines()\n",
    "linhasVertices = fileVertices.readlines()\n",
    "linhasNomeVertices = fileNomeVertices.readlines()\n"
   ]
  },
  {
   "cell_type": "markdown",
   "id": "367f0065",
   "metadata": {},
   "source": [
    "Agora vamos importar a biblioteca que vai construir esse grafo simplificado, que como visto no jupyter anterior, é um grafo não-dirigido."
   ]
  },
  {
   "cell_type": "code",
   "execution_count": 2,
   "id": "a4ecd031",
   "metadata": {},
   "outputs": [
    {
     "data": {
      "text/html": [
       "\n",
       "    <script src=\"/files/netpixi.min.js\"></script>\n"
      ],
      "text/plain": [
       "<IPython.core.display.HTML object>"
      ]
     },
     "metadata": {},
     "output_type": "display_data"
    }
   ],
   "source": [
    "# Importando a biblioteca netpixi\n",
    "from netpixi.integration.gt import Graph\n",
    "\n",
    "# Criando um grafo não-dirigido\n",
    "g = Graph(directed=False) "
   ]
  },
  {
   "cell_type": "markdown",
   "id": "5e5cebc7",
   "metadata": {},
   "source": [
    "Para adicionar os vértices ao grafo basta percorrer as linhas do documento e separar para pegar apenas o número que importa."
   ]
  },
  {
   "cell_type": "code",
   "execution_count": 3,
   "id": "5cfb13c3",
   "metadata": {},
   "outputs": [],
   "source": [
    "# Adicionando os vértices ao grafo:\n",
    "listaVertices = []\n",
    "for linha1 in linhasVertices:\n",
    "    vertices = linha1.strip().split(', ')\n",
    "    #print(vertices)  [debug]  \n",
    "    for i in range (0, len(vertices)):\n",
    "        g.add_vertex(vertices[i])\n",
    "        listaVertices.append(vertices[i])"
   ]
  },
  {
   "cell_type": "code",
   "execution_count": 4,
   "id": "c9a398e0",
   "metadata": {},
   "outputs": [
    {
     "name": "stdout",
     "output_type": "stream",
     "text": [
      "O número de vértices do grafo é : 1873\n"
     ]
    }
   ],
   "source": [
    "n = g.num_vertices()\n",
    "print('O número de vértices do grafo é :', n)"
   ]
  },
  {
   "cell_type": "markdown",
   "id": "400f8c69",
   "metadata": {},
   "source": [
    "Agora podemos adicionar as arestas ao grafo, e com o trabalho de manipulação de linhas e string, isso foi feito abaixo:"
   ]
  },
  {
   "cell_type": "code",
   "execution_count": 5,
   "id": "d03102d0",
   "metadata": {},
   "outputs": [],
   "source": [
    "# Adicionando os vértices ao grafo:\n",
    "for linha2 in linhasArestas:\n",
    "    no1 = linha2.split(', ')[0].split('[')[1]\n",
    "    no2 = linha2.split(', ')[1].split(']')[0]\n",
    "    g.add_edge(no1, no2)\n",
    "    "
   ]
  },
  {
   "cell_type": "code",
   "execution_count": 6,
   "id": "f03659c1",
   "metadata": {},
   "outputs": [
    {
     "name": "stdout",
     "output_type": "stream",
     "text": [
      "O número de arestas do grafo é : 1999\n"
     ]
    }
   ],
   "source": [
    "m = g.num_edges()\n",
    "print('O número de arestas do grafo é :', m)"
   ]
  },
  {
   "cell_type": "markdown",
   "id": "927d0e22",
   "metadata": {},
   "source": [
    "Por fim, podemos adicionar a propriedade dos vértices que é o nome da página do Facebook que está relacionada ao nó."
   ]
  },
  {
   "cell_type": "code",
   "execution_count": 7,
   "id": "a288eee9",
   "metadata": {},
   "outputs": [],
   "source": [
    "g.add_vp('nome')\n",
    "\n",
    "for i in range(len(linhasNomeVertices)):   \n",
    "    nome = linhasNomeVertices[i].split('\\n')[0]\n",
    "    vertice = listaVertices[i]\n",
    "    #print(nome, vertice)\n",
    "    g.get_vertex(vertice)['nome'] = nome"
   ]
  },
  {
   "cell_type": "markdown",
   "id": "6a016197",
   "metadata": {},
   "source": [
    "<h2> Salvando o documento e mostrando os grafos</h2>"
   ]
  },
  {
   "cell_type": "markdown",
   "id": "3f0edf01",
   "metadata": {},
   "source": [
    "Depois de construído o grafo, podemos salvá-lo no formato formato ZipNet para em seguida carregá-lo e renderizá-lo."
   ]
  },
  {
   "cell_type": "code",
   "execution_count": 8,
   "id": "e8c1ec99",
   "metadata": {},
   "outputs": [],
   "source": [
    "from netpixi.integration.gt import *\n",
    "import netpixi"
   ]
  },
  {
   "cell_type": "code",
   "execution_count": 9,
   "id": "d7ccc7db",
   "metadata": {},
   "outputs": [],
   "source": [
    "gt_save(g, '../datasets/grafoMenor.net.gz')\n",
    "g = gt_load('../datasets/grafoMenor.net.gz')"
   ]
  },
  {
   "cell_type": "code",
   "execution_count": 10,
   "id": "9bec277a",
   "metadata": {},
   "outputs": [
    {
     "data": {
      "text/html": [
       "\n",
       "        <div id=\"FNtctshBtpmtZBNXV2Ej5w\"></div>\n",
       "        <script>netpixi.render('FNtctshBtpmtZBNXV2Ej5w', '../datasets/grafoMenor.net.gz', 1.7777777777777777, true, false, false);</script>\n",
       "    "
      ],
      "text/plain": [
       "<IPython.core.display.HTML object>"
      ]
     },
     "metadata": {},
     "output_type": "display_data"
    }
   ],
   "source": [
    "r = netpixi.render('../datasets/grafoMenor.net.gz', infinite = False)"
   ]
  },
  {
   "cell_type": "markdown",
   "id": "5f671dd0",
   "metadata": {},
   "source": [
    "Para melhorar um pouco mais a visualização podemos adicionar alguns estilos ao grafo:"
   ]
  },
  {
   "cell_type": "code",
   "execution_count": 13,
   "id": "bcb0ac84",
   "metadata": {},
   "outputs": [
    {
     "data": {
      "text/html": [
       "\n",
       "        <div id=\"hHREL4BnSpRJeQ9V9GHLkG\"></div>\n",
       "        <script>netpixi.call('hHREL4BnSpRJeQ9V9GHLkG', 'FNtctshBtpmtZBNXV2Ej5w', 'changeGraph', 'eyJ0eXBlIjogInNldHRpbmdzIiwgInByb3BzIjogeyJncmFwaCI6IHsiY29sb3IiOiAxNjc3NzIxNX19fQo=');</script>\n",
       "    "
      ],
      "text/plain": [
       "<IPython.core.display.HTML object>"
      ]
     },
     "metadata": {},
     "output_type": "display_data"
    },
    {
     "data": {
      "text/html": [
       "\n",
       "        <div id=\"HVQ6J7iQ6igDYZhdtwKg2o\"></div>\n",
       "        <script>netpixi.call('HVQ6J7iQ6igDYZhdtwKg2o', 'FNtctshBtpmtZBNXV2Ej5w', 'changeGraph', 'eyJ0eXBlIjogInNldHRpbmdzIiwgInByb3BzIjogeyJ2ZXJ0ZXgiOiB7ImNvbG9yIjogMCwgInNpemUiOiAxMH19fQo=');</script>\n",
       "    "
      ],
      "text/plain": [
       "<IPython.core.display.HTML object>"
      ]
     },
     "metadata": {},
     "output_type": "display_data"
    },
    {
     "data": {
      "text/html": [
       "\n",
       "        <div id=\"FCR7cXaG5ky3TqsF5PC7sG\"></div>\n",
       "        <script>netpixi.call('FCR7cXaG5ky3TqsF5PC7sG', 'FNtctshBtpmtZBNXV2Ej5w', 'changeGraph', 'eyJ0eXBlIjogInNldHRpbmdzIiwgInByb3BzIjogeyJlZGdlIjogeyJjb2xvciI6IDAsICJ3aWR0aCI6IDEsICJjdXJ2ZTEiOiAxLCAiY3VydmUyIjogMX19fQo=');</script>\n",
       "    "
      ],
      "text/plain": [
       "<IPython.core.display.HTML object>"
      ]
     },
     "metadata": {},
     "output_type": "display_data"
    },
    {
     "data": {
      "text/html": [
       "\n",
       "        <div id=\"UUVr3HDcTYwvNaxQQxhamH\"></div>\n",
       "        <script>netpixi.call('UUVr3HDcTYwvNaxQQxhamH', 'FNtctshBtpmtZBNXV2Ej5w', 'setGraph', 'eyJ0eXBlIjogInZlcnRleCIsICJwcm9wcyI6IHsic3JjIjogIm5vbWUiLCAiZHN0IjogIl9rZXkifX0K');</script>\n",
       "    "
      ],
      "text/plain": [
       "<IPython.core.display.HTML object>"
      ]
     },
     "metadata": {},
     "output_type": "display_data"
    }
   ],
   "source": [
    "r.graph(color=0xffffff)\n",
    "\n",
    "# mudar a cor e o tamanho dos vértices\n",
    "r.vertex_default(color=0x000000, size=10)\n",
    "\n",
    "# mudar a cor, a espessura e a curvatura das arestas\n",
    "r.edge_default(color=0x000000, width=1, curve1=1, curve2=1)\n",
    "\n",
    "r.vertex_set_key('nome')"
   ]
  },
  {
   "cell_type": "markdown",
   "id": "3ab21024",
   "metadata": {},
   "source": [
    "Com esse dataset menor também conseguimos ver melhor se há a formação de grupos entre algumas vértices, e de fato, isso pode ser visto abaixo:"
   ]
  },
  {
   "cell_type": "code",
   "execution_count": 12,
   "id": "ed760f97",
   "metadata": {},
   "outputs": [
    {
     "data": {
      "text/html": [
       "\n",
       "        <div id=\"Tu383BwgJoazj6MouSE9ej\"></div>\n",
       "        <script>netpixi.render('Tu383BwgJoazj6MouSE9ej', 'grafoMenorGrupos.net.gz', 1.7777777777777777, true, false, false);</script>\n",
       "    "
      ],
      "text/plain": [
       "<IPython.core.display.HTML object>"
      ]
     },
     "metadata": {},
     "output_type": "display_data"
    }
   ],
   "source": [
    "#Esse aqui evidencia os grupos\n",
    "\n",
    "g = gt_load('../datasets/grafoMenor.net.gz')\n",
    "m = gt_draw.sfdp_layout(g)\n",
    "gt_move(g, m)\n",
    "gt_save(g, 'grafoMenorGrupos.net.gz')\n",
    "netpixi.render('grafoMenorGrupos.net.gz');"
   ]
  },
  {
   "cell_type": "code",
   "execution_count": null,
   "id": "4a7edbd7",
   "metadata": {},
   "outputs": [],
   "source": []
  }
 ],
 "metadata": {
  "kernelspec": {
   "display_name": "Python 3 (ipykernel)",
   "language": "python",
   "name": "python3"
  },
  "language_info": {
   "codemirror_mode": {
    "name": "ipython",
    "version": 3
   },
   "file_extension": ".py",
   "mimetype": "text/x-python",
   "name": "python",
   "nbconvert_exporter": "python",
   "pygments_lexer": "ipython3",
   "version": "3.10.6"
  }
 },
 "nbformat": 4,
 "nbformat_minor": 5
}
